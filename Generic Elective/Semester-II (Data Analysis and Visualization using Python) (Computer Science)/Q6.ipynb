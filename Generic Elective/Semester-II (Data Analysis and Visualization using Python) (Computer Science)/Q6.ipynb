{
 "cells": [
  {
   "cell_type": "code",
   "execution_count": 1,
   "id": "1ee7bc43-b881-451f-888e-70e0b53da0f9",
   "metadata": {},
   "outputs": [
    {
     "name": "stdout",
     "output_type": "stream",
     "text": [
      "    Name  Gender  MonthlyIncome\n",
      "0   Shah    Male       114000.0\n",
      "1   Vats    Male        65000.0\n",
      "2   Vats  Female        43150.0\n",
      "3  Kumar  Female        69500.0\n",
      "4   Vats  Female       155000.0\n",
      "5  Kumar    Male       103000.0\n",
      "6   Shah    Male        55000.0\n",
      "7   Shah  Female       112400.0\n",
      "8  Kumar  Female        81030.0\n",
      "9   Vats    Male        71900.0\n"
     ]
    }
   ],
   "source": [
    "import numpy as np\n",
    "import pandas as pd\n",
    "df = pd.read_csv(\"family.csv\")\n",
    "print(df)"
   ]
  },
  {
   "cell_type": "code",
   "execution_count": 3,
   "id": "c643f2f2-f1ce-4270-9b63-7840c1a9fd22",
   "metadata": {},
   "outputs": [
    {
     "name": "stdout",
     "output_type": "stream",
     "text": [
      "The familywise gross monthly income is:\n"
     ]
    },
    {
     "data": {
      "text/plain": [
       "Name\n",
       "Kumar    253530.0\n",
       "Shah     281400.0\n",
       "Vats     335050.0\n",
       "Name: MonthlyIncome, dtype: float64"
      ]
     },
     "execution_count": 3,
     "metadata": {},
     "output_type": "execute_result"
    }
   ],
   "source": [
    "#a\n",
    "print(\"The familywise gross monthly income is:\")\n",
    "df.groupby(['Name'])['MonthlyIncome'].sum()"
   ]
  },
  {
   "cell_type": "code",
   "execution_count": 4,
   "id": "62f9fc44-63ba-46ed-9a2b-693110544b27",
   "metadata": {},
   "outputs": [
    {
     "name": "stdout",
     "output_type": "stream",
     "text": [
      "Highest monthly income in each family:\n"
     ]
    },
    {
     "data": {
      "text/plain": [
       "Name\n",
       "Kumar    103000.0\n",
       "Shah     114000.0\n",
       "Vats     155000.0\n",
       "Name: MonthlyIncome, dtype: float64"
      ]
     },
     "execution_count": 4,
     "metadata": {},
     "output_type": "execute_result"
    }
   ],
   "source": [
    "#b\n",
    "print(\"Highest monthly income in each family:\")\n",
    "df.groupby(['Name'])['MonthlyIncome'].max()"
   ]
  },
  {
   "cell_type": "code",
   "execution_count": 5,
   "id": "856274dc-605c-4313-aa40-799d284f4e15",
   "metadata": {},
   "outputs": [
    {
     "name": "stdout",
     "output_type": "stream",
     "text": [
      "Members with monthly income more than Rs. 60000:\n"
     ]
    },
    {
     "data": {
      "text/html": [
       "<div>\n",
       "<style scoped>\n",
       "    .dataframe tbody tr th:only-of-type {\n",
       "        vertical-align: middle;\n",
       "    }\n",
       "\n",
       "    .dataframe tbody tr th {\n",
       "        vertical-align: top;\n",
       "    }\n",
       "\n",
       "    .dataframe thead th {\n",
       "        text-align: right;\n",
       "    }\n",
       "</style>\n",
       "<table border=\"1\" class=\"dataframe\">\n",
       "  <thead>\n",
       "    <tr style=\"text-align: right;\">\n",
       "      <th></th>\n",
       "      <th>Name</th>\n",
       "      <th>Gender</th>\n",
       "      <th>MonthlyIncome</th>\n",
       "    </tr>\n",
       "  </thead>\n",
       "  <tbody>\n",
       "    <tr>\n",
       "      <th>0</th>\n",
       "      <td>Shah</td>\n",
       "      <td>Male</td>\n",
       "      <td>114000.0</td>\n",
       "    </tr>\n",
       "    <tr>\n",
       "      <th>1</th>\n",
       "      <td>Vats</td>\n",
       "      <td>Male</td>\n",
       "      <td>65000.0</td>\n",
       "    </tr>\n",
       "    <tr>\n",
       "      <th>3</th>\n",
       "      <td>Kumar</td>\n",
       "      <td>Female</td>\n",
       "      <td>69500.0</td>\n",
       "    </tr>\n",
       "    <tr>\n",
       "      <th>4</th>\n",
       "      <td>Vats</td>\n",
       "      <td>Female</td>\n",
       "      <td>155000.0</td>\n",
       "    </tr>\n",
       "    <tr>\n",
       "      <th>5</th>\n",
       "      <td>Kumar</td>\n",
       "      <td>Male</td>\n",
       "      <td>103000.0</td>\n",
       "    </tr>\n",
       "    <tr>\n",
       "      <th>7</th>\n",
       "      <td>Shah</td>\n",
       "      <td>Female</td>\n",
       "      <td>112400.0</td>\n",
       "    </tr>\n",
       "    <tr>\n",
       "      <th>8</th>\n",
       "      <td>Kumar</td>\n",
       "      <td>Female</td>\n",
       "      <td>81030.0</td>\n",
       "    </tr>\n",
       "    <tr>\n",
       "      <th>9</th>\n",
       "      <td>Vats</td>\n",
       "      <td>Male</td>\n",
       "      <td>71900.0</td>\n",
       "    </tr>\n",
       "  </tbody>\n",
       "</table>\n",
       "</div>"
      ],
      "text/plain": [
       "    Name  Gender  MonthlyIncome\n",
       "0   Shah    Male       114000.0\n",
       "1   Vats    Male        65000.0\n",
       "3  Kumar  Female        69500.0\n",
       "4   Vats  Female       155000.0\n",
       "5  Kumar    Male       103000.0\n",
       "7   Shah  Female       112400.0\n",
       "8  Kumar  Female        81030.0\n",
       "9   Vats    Male        71900.0"
      ]
     },
     "execution_count": 5,
     "metadata": {},
     "output_type": "execute_result"
    }
   ],
   "source": [
    "#c\n",
    "print(\"Members with monthly income more than Rs. 60000:\")\n",
    "df[df[\"MonthlyIncome\"]>60000]"
   ]
  },
  {
   "cell_type": "code",
   "execution_count": 6,
   "id": "56d5050e-7e6d-4125-8bd9-782a93efabb3",
   "metadata": {},
   "outputs": [
    {
     "name": "stdout",
     "output_type": "stream",
     "text": [
      "The average monthly income of the female members is Rs. 92216.0\n"
     ]
    }
   ],
   "source": [
    "#d\n",
    "print(\"The average monthly income of the female members is Rs.\",\n",
    "     df[df[\"Gender\"]==\"Female\"][\"MonthlyIncome\"].mean())"
   ]
  }
 ],
 "metadata": {
  "kernelspec": {
   "display_name": "Python 3 (ipykernel)",
   "language": "python",
   "name": "python3"
  },
  "language_info": {
   "codemirror_mode": {
    "name": "ipython",
    "version": 3
   },
   "file_extension": ".py",
   "mimetype": "text/x-python",
   "name": "python",
   "nbconvert_exporter": "python",
   "pygments_lexer": "ipython3",
   "version": "3.12.3"
  }
 },
 "nbformat": 4,
 "nbformat_minor": 5
}
