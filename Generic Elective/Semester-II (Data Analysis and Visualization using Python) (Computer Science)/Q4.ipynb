{
 "cells": [
  {
   "cell_type": "code",
   "execution_count": 2,
   "id": "8db0b7bd-233b-4130-9ee8-acae9db25497",
   "metadata": {},
   "outputs": [
    {
     "name": "stdout",
     "output_type": "stream",
     "text": [
      "     Name        Date  Duration\n",
      "0    Anya  01-07-2023        30\n",
      "1    Amit  01-07-2023        40\n",
      "2   Geeti  01-07-2023        50\n",
      "3  Shikha  01-07-2023        30\n",
      "     Name        Date  Duration\n",
      "0  Shikha  02-07-2023        50\n",
      "1    Amit  02-07-2023        50\n",
      "2    Arun  02-07-2023        30\n"
     ]
    }
   ],
   "source": [
    "import numpy as np\n",
    "import pandas as pd\n",
    "\n",
    "work1_df = pd.read_csv(\"C:\\\\Users\\\\Student_2\\\\Desktop\\\\work1.csv\")\n",
    "work2_df = pd.read_csv(\"C:\\\\Users\\\\Student_2\\\\Desktop\\\\work2.csv\")\n",
    "print(work1_df)\n",
    "print(work2_df)"
   ]
  },
  {
   "cell_type": "code",
   "execution_count": 3,
   "id": "fd2e273a-db80-4f1e-93d1-e6d0be4e3204",
   "metadata": {},
   "outputs": [
    {
     "name": "stdout",
     "output_type": "stream",
     "text": [
      "Students who have attended both the workshops are...\n",
      "      Name      Date_x  Duration_x      Date_y  Duration_y\n",
      "0    Amit  01-07-2023          40  02-07-2023          50\n",
      "1  Shikha  01-07-2023          30  02-07-2023          50\n"
     ]
    }
   ],
   "source": [
    "#a\n",
    "print(\"Students who have attended both the workshops are...\\n\",\n",
    "     pd.merge(work1_df, work2_df, on=\"Name\"))"
   ]
  },
  {
   "cell_type": "code",
   "execution_count": 4,
   "id": "c1462003-b486-4445-9d1b-841906c9aec3",
   "metadata": {},
   "outputs": [
    {
     "name": "stdout",
     "output_type": "stream",
     "text": [
      "Students who have attended a single workshop are...\n",
      "     Name        Date  Duration\n",
      "0   Anya  01-07-2023        30\n",
      "2  Geeti  01-07-2023        50\n",
      "2   Arun  02-07-2023        30\n"
     ]
    }
   ],
   "source": [
    "#b\n",
    "print(\"Students who have attended a single workshop are...\\n\",\n",
    "     pd.concat([work1_df, work2_df]).drop_duplicates(\"Name\", keep=False))"
   ]
  },
  {
   "cell_type": "code",
   "execution_count": 6,
   "id": "fb0081a3-7bf4-4977-9495-8b1ef0aa7556",
   "metadata": {},
   "outputs": [
    {
     "name": "stdout",
     "output_type": "stream",
     "text": [
      "Merging data frames row wise\n",
      "      Name        Date  Duration\n",
      "0    Anya  01-07-2023        30\n",
      "1    Amit  01-07-2023        40\n",
      "2   Geeti  01-07-2023        50\n",
      "3  Shikha  01-07-2023        30\n",
      "4  Shikha  02-07-2023        50\n",
      "5    Amit  02-07-2023        50\n",
      "6    Arun  02-07-2023        30\n",
      "Total number of records in the data frames: 7\n"
     ]
    }
   ],
   "source": [
    "#c\n",
    "mer_row = pd.concat([work1_df, work2_df]).reset_index(drop=True)\n",
    "print(\"Merging data frames row wise\\n\", mer_row)\n",
    "print(\"Total number of records in the data frames:\", mer_row.shape[0])"
   ]
  },
  {
   "cell_type": "code",
   "execution_count": 7,
   "id": "772abd48-d4ba-4619-a569-88767300aa47",
   "metadata": {},
   "outputs": [
    {
     "name": "stdout",
     "output_type": "stream",
     "text": [
      "                   Duration\n",
      "Name   Date                \n",
      "Anya   01-07-2023        30\n",
      "Amit   01-07-2023        40\n",
      "Geeti  01-07-2023        50\n",
      "Shikha 01-07-2023        30\n",
      "       02-07-2023        50\n",
      "Amit   02-07-2023        50\n",
      "Arun   02-07-2023        30\n"
     ]
    }
   ],
   "source": [
    "#d\n",
    "multi_index = pd.concat([work1_df.set_index(['Name', 'Date']),\n",
    "                         work2_df.set_index(['Name', 'Date'])])\n",
    "print(multi_index)"
   ]
  },
  {
   "cell_type": "code",
   "execution_count": 8,
   "id": "971ae6f0-e9a2-4923-9c8f-c2b53ddaa80f",
   "metadata": {},
   "outputs": [
    {
     "name": "stdout",
     "output_type": "stream",
     "text": [
      "       Duration\n",
      "count       7.0\n",
      "mean       40.0\n",
      "std        10.0\n",
      "min        30.0\n",
      "25%        30.0\n",
      "50%        40.0\n",
      "75%        50.0\n",
      "max        50.0\n"
     ]
    }
   ],
   "source": [
    "des_stats = multi_index.describe()\n",
    "print(des_stats)"
   ]
  }
 ],
 "metadata": {
  "kernelspec": {
   "display_name": "Python 3 (ipykernel)",
   "language": "python",
   "name": "python3"
  },
  "language_info": {
   "codemirror_mode": {
    "name": "ipython",
    "version": 3
   },
   "file_extension": ".py",
   "mimetype": "text/x-python",
   "name": "python",
   "nbconvert_exporter": "python",
   "pygments_lexer": "ipython3",
   "version": "3.12.3"
  }
 },
 "nbformat": 4,
 "nbformat_minor": 5
}
