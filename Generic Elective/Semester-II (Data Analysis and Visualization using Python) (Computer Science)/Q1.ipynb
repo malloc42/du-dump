{
 "cells": [
  {
   "cell_type": "code",
   "execution_count": 3,
   "id": "c61d4ce1-d951-414b-a97f-370062799a5c",
   "metadata": {},
   "outputs": [
    {
     "name": "stdin",
     "output_type": "stream",
     "text": [
      "Enter m (rows):  3\n",
      "Enter n (columns):  4\n"
     ]
    },
    {
     "name": "stdout",
     "output_type": "stream",
     "text": [
      "\n",
      "Original Array:\n",
      "[[6 4 8 6]\n",
      " [9 0 3 3]\n",
      " [6 3 7 5]]\n",
      "\n",
      "Mean of the Array along the second axis: [6.   3.75 5.25]\n",
      "Standard Deviation of the Array along the second axis: [1.41421356 3.26917421 1.47901995]\n",
      "Variance of the Array along the second axis: [ 2.     10.6875  2.1875]\n"
     ]
    }
   ],
   "source": [
    "import numpy as np\n",
    "\n",
    "#a\n",
    "m = int(input(\"Enter m (rows): \"))\n",
    "n = int(input(\"Enter n (columns): \"))\n",
    "\n",
    "arr = np.random.randint(10, size=(m, n))\n",
    "print(\"\\nOriginal Array:\")\n",
    "print(arr)\n",
    "\n",
    "print(\"\\nMean of the Array along the second axis:\", np.mean(arr, axis=1))\n",
    "print(\"Standard Deviation of the Array along the second axis:\", np.std(arr, axis=1))\n",
    "print(\"Variance of the Array along the second axis:\", np.var(arr, axis=1))"
   ]
  },
  {
   "cell_type": "code",
   "execution_count": 5,
   "id": "eea303c9-cc92-427f-8f96-f10aa6905a49",
   "metadata": {},
   "outputs": [
    {
     "name": "stdin",
     "output_type": "stream",
     "text": [
      "Enter m (rows):  3\n",
      "Enter n (columns):  4\n"
     ]
    },
    {
     "name": "stdout",
     "output_type": "stream",
     "text": [
      "\n",
      "Original Array:\n",
      "[[0 1 5 4]\n",
      " [0 0 9 0]\n",
      " [5 7 5 1]]\n",
      "Shape of Array: (3, 4)\n",
      "Dimension of Array: 2\n",
      "Data type of Array: int32\n",
      "\n",
      "Re-shaped Array:\n",
      "[[0 1 5]\n",
      " [4 0 0]\n",
      " [9 0 5]\n",
      " [7 5 1]]\n"
     ]
    }
   ],
   "source": [
    "#b\n",
    "m = int(input(\"Enter m (rows): \"))\n",
    "n = int(input(\"Enter n (columns): \"))\n",
    "\n",
    "arr = np.random.randint(10, size=(m, n))\n",
    "print(\"\\nOriginal Array:\")\n",
    "print(arr)\n",
    "\n",
    "print(\"Shape of Array:\", arr.shape)\n",
    "print(\"Dimension of Array:\", arr.ndim)\n",
    "print(\"Data type of Array:\", arr.dtype)\n",
    "\n",
    "# Re-shaping the array\n",
    "arr_new = np.reshape(arr, (n, m))\n",
    "print(\"\\nRe-shaped Array:\")\n",
    "print(arr_new)"
   ]
  },
  {
   "cell_type": "code",
   "execution_count": 6,
   "id": "165be578-fc24-461d-8b11-6004b1d0105f",
   "metadata": {},
   "outputs": [
    {
     "name": "stdout",
     "output_type": "stream",
     "text": [
      "Original array is:\n",
      "[0. 0. 0. 0. 0. 0. 0. 0. 0. 0. 0. 0. 0. 0. 0.]\n",
      "\n",
      "New array is:\n",
      "[  0.   0.   0. 100. 100. 100.   0.  nan  nan   0.   0.   0.  nan  nan\n",
      "   0.]\n",
      "\n",
      "Boolean Array with zero-indicators:\n",
      "[ True  True  True False False False  True False False  True  True  True\n",
      " False False  True]\n",
      "\n",
      "Boolean Array with non-zero-indicators:\n",
      "[False False False  True  True  True False  True  True False False False\n",
      "  True  True False]\n",
      "\n",
      "Boolean Array with null-indicators:\n",
      "[False False False False False False False  True  True False False False\n",
      "  True  True False]\n",
      "\n",
      "Index Array:\n",
      "[ 0  1  2  3  4  5  6  7  8  9 10 11 12 13 14]\n",
      "\n",
      "Array containing indices of zero entries:\n",
      "[ 0  1  2  6  9 10 11 14]\n",
      "\n",
      "Array containing indices of non-zero entries:\n",
      "[ 3  4  5  7  8 12 13]\n",
      "\n",
      "Array containing indices of NaN enries:\n",
      "[ 7  8 12 13]\n"
     ]
    }
   ],
   "source": [
    "#c\n",
    "# Creating an array containing zero, non-zero and NaN elements\n",
    "ar = np.zeros(15)\n",
    "print(f'Original array is:\\n{ar}')\n",
    "ar[3:6] = 100\n",
    "ar[7:9] = float('Nan')\n",
    "ar[12:14] = float('Nan')\n",
    "print(f'\\nNew array is:\\n{ar}')\n",
    "\n",
    "# Creating a boolean array representing indices with 0 as the element\n",
    "bool_zero = (ar == 0)\n",
    "print(f'\\nBoolean Array with zero-indicators:\\n{bool_zero}')\n",
    "\n",
    "# Creating a boolean array representing indices with a non-zero element\n",
    "bool_nonzero = (ar!=0 & np.isnan(ar))\n",
    "print(f'\\nBoolean Array with non-zero-indicators:\\n{bool_nonzero}')\n",
    "\n",
    "# Creating a boolean array representing indices with a null/NaN element\n",
    "bool_nan = np.isnan(ar)\n",
    "print(f'\\nBoolean Array with null-indicators:\\n{bool_nan}')\n",
    "\n",
    "# Creating an index array representing the indices of 'ar'\n",
    "index=np.arange(15)\n",
    "print(f'\\nIndex Array:\\n{index}')\n",
    "\n",
    "# Using boolean indexing to retrieve index arrays - zero, non-zero and nan elements of ar.\n",
    "zero_index = index[bool_zero == True]\n",
    "print(f'\\nArray containing indices of zero entries:\\n{zero_index}')\n",
    "\n",
    "non_zero_index = index[bool_nonzero == True]\n",
    "print(f'\\nArray containing indices of non-zero entries:\\n{non_zero_index}')\n",
    "\n",
    "nan_index = index[bool_nan == True]\n",
    "print(f'\\nArray containing indices of NaN enries:\\n{nan_index}')"
   ]
  },
  {
   "cell_type": "code",
   "execution_count": 9,
   "id": "17e77013-7332-40ed-8bce-20f79640ebaa",
   "metadata": {},
   "outputs": [
    {
     "name": "stdout",
     "output_type": "stream",
     "text": [
      "Array1:\n",
      "[[0.13666224 0.49764505 0.85595075]\n",
      " [0.8441919  0.00422264 0.30898263]\n",
      " [0.03242079 0.05293668 0.2774324 ]]\n",
      "\n",
      "Array2:\n",
      "[[0.35289827 0.06770633 0.80906599]\n",
      " [0.26040798 0.05850492 0.47186301]\n",
      " [0.27026412 0.68708183 0.93218839]]\n",
      "\n",
      "Array3:\n",
      "[[0.60138648 0.82515681 0.44165313]\n",
      " [0.59238822 0.90949747 0.91953461]\n",
      " [0.40380008 0.57986929 0.00187128]]\n",
      "\n",
      "Array4 (Array2 - Array3):\n",
      "[[-0.24848822 -0.75745049  0.36741286]\n",
      " [-0.33198024 -0.85099255 -0.4476716 ]\n",
      " [-0.13353596  0.10721254  0.93031711]]\n",
      "\n",
      "Array4 (2 * Array1):\n",
      "[[0.27332447 0.9952901  1.7119015 ]\n",
      " [1.68838379 0.00844527 0.61796525]\n",
      " [0.06484158 0.10587336 0.5548648 ]]\n",
      "\n",
      "Co-variance between Array1 and Array4:\n",
      "[[ 0.31728238  0.10776403  0.24309608  0.11038815  0.07344834  0.06549802]\n",
      " [ 0.10776403  0.07423768  0.01399088 -0.02100963  0.10346493  0.00859168]\n",
      " [ 0.24309608  0.01399088  0.31120739  0.1911744  -0.08679267  0.07506316]\n",
      " [ 0.11038815 -0.02100963  0.1911744   0.12934459 -0.09649785  0.044013  ]\n",
      " [ 0.07344834  0.10346493 -0.08679267 -0.09649785  0.18081266 -0.01332465]\n",
      " [ 0.06549802  0.00859168  0.07506316  0.044013   -0.01332465  0.01847499]]\n",
      "\n",
      "Correlation between Array1 and Array5:\n",
      "[[ 1.         -0.63099961  0.90035711  1.         -0.63099961  0.90035711]\n",
      " [-0.63099961  1.         -0.23054158 -0.63099961  1.         -0.23054158]\n",
      " [ 0.90035711 -0.23054158  1.          0.90035711 -0.23054158  1.        ]\n",
      " [ 1.         -0.63099961  0.90035711  1.         -0.63099961  0.90035711]\n",
      " [-0.63099961  1.         -0.23054158 -0.63099961  1.         -0.23054158]\n",
      " [ 0.90035711 -0.23054158  1.          0.90035711 -0.23054158  1.        ]]\n"
     ]
    }
   ],
   "source": [
    "#d\n",
    "Array1 = np.random.random((3, 3))\n",
    "print(\"Array1:\")\n",
    "print(Array1)\n",
    "\n",
    "Array2 = np.random.random((3, 3))\n",
    "print(\"\\nArray2:\")\n",
    "print(Array2)\n",
    "\n",
    "Array3 = np.random.random((3, 3))\n",
    "print(\"\\nArray3:\")\n",
    "print(Array3)\n",
    "\n",
    "Array4 = Array2 - Array3\n",
    "print(\"\\nArray4 (Array2 - Array3):\")\n",
    "print(Array4)\n",
    "\n",
    "Array5 = 2 * Array1\n",
    "print(\"\\nArray4 (2 * Array1):\")\n",
    "print(Array5)\n",
    "\n",
    "print(\"\\nCo-variance between Array1 and Array4:\")\n",
    "print(np.cov(Array4, Array1))\n",
    "\n",
    "print(\"\\nCorrelation between Array1 and Array5:\")\n",
    "print(np.corrcoef(Array5, Array1))"
   ]
  },
  {
   "cell_type": "code",
   "execution_count": 8,
   "id": "a9dc2fbb-8121-44a6-9fbd-c582c67f8178",
   "metadata": {},
   "outputs": [
    {
     "name": "stdout",
     "output_type": "stream",
     "text": [
      "Array1:\n",
      "[0.94130545 0.30972074 0.95063743 0.68570195 0.73212143 0.88703935\n",
      " 0.16438697 0.12984222 0.30542109 0.78037674]\n",
      "\n",
      "Array2:\n",
      "[0.88043628 0.33052508 0.47961548 0.7407832  0.32782773 0.32331665\n",
      " 0.61940974 0.19883301 0.22053255 0.12166375]\n",
      "\n",
      "Sum of the first half of both arrays:\n",
      "[1.82174173 0.64024582 1.43025291 1.42648515 1.05994916]\n",
      "\n",
      "Product of the second half of both arrays:\n",
      "[0.28679459 0.10182289 0.02581692 0.06735529 0.09494356]\n"
     ]
    }
   ],
   "source": [
    "#e\n",
    "Array1 = np.random.random(size=10)\n",
    "print(\"Array1:\")\n",
    "print(Array1)\n",
    "\n",
    "Array2 = np.random.random(size=10)\n",
    "print(\"\\nArray2:\")\n",
    "print(Array2)\n",
    "\n",
    "print(\"\\nSum of the first half of both arrays:\")\n",
    "print(Array1[:5] + Array2[:5])\n",
    "\n",
    "print(\"\\nProduct of the second half of both arrays:\")\n",
    "print(Array1[5:] * Array2[5:])"
   ]
  }
 ],
 "metadata": {
  "kernelspec": {
   "display_name": "Python 3 (ipykernel)",
   "language": "python",
   "name": "python3"
  },
  "language_info": {
   "codemirror_mode": {
    "name": "ipython",
    "version": 3
   },
   "file_extension": ".py",
   "mimetype": "text/x-python",
   "name": "python",
   "nbconvert_exporter": "python",
   "pygments_lexer": "ipython3",
   "version": "3.12.3"
  }
 },
 "nbformat": 4,
 "nbformat_minor": 5
}
