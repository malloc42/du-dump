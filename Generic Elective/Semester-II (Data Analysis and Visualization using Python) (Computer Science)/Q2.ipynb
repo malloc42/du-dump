{
 "cells": [
  {
   "cell_type": "code",
   "execution_count": 5,
   "id": "1c556aa4-6758-44bb-bea4-32c4f976ed20",
   "metadata": {},
   "outputs": [
    {
     "name": "stdout",
     "output_type": "stream",
     "text": [
      "The original series is:\n",
      "a    7\n",
      "b    8\n",
      "c    9\n",
      "d    4\n",
      "e    5\n",
      "dtype: int64\n",
      "\n",
      "The series sorted on the basis of index is:\n",
      "a    7\n",
      "b    8\n",
      "c    9\n",
      "d    4\n",
      "e    5\n",
      "dtype: int64\n",
      "\n",
      "The series sorted on the basis of values is:\n",
      "d    4\n",
      "e    5\n",
      "a    7\n",
      "b    8\n",
      "c    9\n",
      "dtype: int64\n"
     ]
    }
   ],
   "source": [
    "import numpy as np\n",
    "import pandas as pd\n",
    "\n",
    "#a\n",
    "s1 = pd.Series([7, 8, 9, 4, 5], index=['a', 'b', 'c', 'd', 'e'])\n",
    "print(f\"The original series is:\\n{s1}\")\n",
    "\n",
    "x = s1.sort_index()\n",
    "print(f\"\\nThe series sorted on the basis of index is:\\n{x}\")\n",
    "\n",
    "y = s1.sort_values()\n",
    "print(f\"\\nThe series sorted on the basis of values is:\\n{y}\")"
   ]
  },
  {
   "cell_type": "code",
   "execution_count": 4,
   "id": "af15a0e7-762f-4941-b1d5-055e069da11e",
   "metadata": {},
   "outputs": [
    {
     "name": "stdout",
     "output_type": "stream",
     "text": [
      "Ranks through 'first' method are:\n",
      "a     1.0\n",
      "b     9.0\n",
      "c     5.0\n",
      "d     6.0\n",
      "e    10.0\n",
      "f     3.0\n",
      "g     2.0\n",
      "h     8.0\n",
      "i     4.0\n",
      "j     7.0\n",
      "dtype: float64\n",
      "\n",
      "Ranks through 'max' method are:\n",
      "a     2.0\n",
      "b    10.0\n",
      "c     5.0\n",
      "d     6.0\n",
      "e    10.0\n",
      "f     3.0\n",
      "g     2.0\n",
      "h     8.0\n",
      "i     4.0\n",
      "j     7.0\n",
      "dtype: float64\n"
     ]
    }
   ],
   "source": [
    "#b\n",
    "s = pd.Series([2, 10, 5, 7, 10, 3, 2, 9, 4, 8], index=list(\"abcdefghij\"))\n",
    "print(f\"Ranks through 'first' method are:\\n{s.rank(method='first')}\")\n",
    "print(f\"\\nRanks through 'max' method are:\\n{s.rank(method='max')}\")"
   ]
  },
  {
   "cell_type": "code",
   "execution_count": 6,
   "id": "a65deb21-5305-44cb-a569-041f3805d641",
   "metadata": {},
   "outputs": [
    {
     "name": "stdout",
     "output_type": "stream",
     "text": [
      "The series is:\n",
      "a    0\n",
      "b    1\n",
      "c    2\n",
      "d    3\n",
      "e    4\n",
      "f    5\n",
      "g    6\n",
      "h    7\n",
      "i    8\n",
      "j    9\n",
      "dtype: int32\n",
      "\n",
      "Index value for the minimum element of the series is: a\n",
      "\n",
      "Index value for the maximum element of the series is: j\n"
     ]
    }
   ],
   "source": [
    "#c\n",
    "obj1 = pd.Series(np.arange(10), index=list(\"abcdefghij\"))\n",
    "print(f\"The series is:\\n{obj1}\")\n",
    "\n",
    "print(f\"\\nIndex value for the minimum element of the series is: {obj1.idxmin()}\")\n",
    "print(f\"\\nIndex value for the maximum element of the series is: {obj1.idxmax()}\")"
   ]
  }
 ],
 "metadata": {
  "kernelspec": {
   "display_name": "Python 3 (ipykernel)",
   "language": "python",
   "name": "python3"
  },
  "language_info": {
   "codemirror_mode": {
    "name": "ipython",
    "version": 3
   },
   "file_extension": ".py",
   "mimetype": "text/x-python",
   "name": "python",
   "nbconvert_exporter": "python",
   "pygments_lexer": "ipython3",
   "version": "3.12.3"
  }
 },
 "nbformat": 4,
 "nbformat_minor": 5
}
